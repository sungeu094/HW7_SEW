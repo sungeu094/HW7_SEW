{
 "cells": [
  {
   "cell_type": "code",
   "execution_count": 5,
   "id": "d6cee169",
   "metadata": {},
   "outputs": [
    {
     "name": "stdout",
     "output_type": "stream",
     "text": [
      "Eigenvalues:\n",
      "[-0.37228132  5.37228132]\n",
      "\n",
      "Eigenvectors:\n",
      "[[-0.82456484 -0.41597356]\n",
      " [ 0.56576746 -0.90937671]]\n",
      "\n",
      "Determinant:\n",
      "-2\n"
     ]
    }
   ],
   "source": [
    "import numpy as np\n",
    "\n",
    "arr = np.array([[1, 2], [3, 4]])  #Given array\n",
    "\n",
    "eig_val, eig_vec = np.linalg.eig(arr)\n",
    "\n",
    "determinant = int(np.linalg.det(arr))      #determinant를 직접 계산해볼때, -2가 나오기 때문에 현재 발생하는 소수점 발생을 없애기 위해 int()를 사용했다.\n",
    "\n",
    "print(\"Eigenvalues:\")\n",
    "print(eig_val)\n",
    "\n",
    "print(\"\\nEigenvectors:\")\n",
    "print(eig_vec)\n",
    "\n",
    "print(\"\\nDeterminant:\")\n",
    "print(determinant)"
   ]
  },
  {
   "cell_type": "code",
   "execution_count": 7,
   "id": "7953ec81",
   "metadata": {},
   "outputs": [
    {
     "name": "stdout",
     "output_type": "stream",
     "text": [
      "[-3  6 -3]\n"
     ]
    }
   ],
   "source": [
    "import numpy as np\n",
    "\n",
    "vec1 = np.array([1,2,3])\n",
    "vec2 = np.array([4,5,6])\n",
    "\n",
    "output = np.cross(vec1, vec2)\n",
    "\n",
    "print(output)"
   ]
  },
  {
   "cell_type": "code",
   "execution_count": 10,
   "id": "1cc02be3",
   "metadata": {},
   "outputs": [
    {
     "name": "stdout",
     "output_type": "stream",
     "text": [
      "Solution:\n",
      "[-1. -4.  3.]\n"
     ]
    }
   ],
   "source": [
    "import numpy as np\n",
    "A = np.array([[1,2,-2],[2,1,-5],[1,-4,1]])\n",
    "b = np.array([-15,-21,18])\n",
    "\n",
    "x = np.linalg.solve(A,b)\n",
    "\n",
    "print(\"Solution:\")\n",
    "print(x)"
   ]
  },
  {
   "cell_type": "code",
   "execution_count": null,
   "id": "352c1c80",
   "metadata": {},
   "outputs": [],
   "source": []
  }
 ],
 "metadata": {
  "kernelspec": {
   "display_name": "Python 3 (ipykernel)",
   "language": "python",
   "name": "python3"
  },
  "language_info": {
   "codemirror_mode": {
    "name": "ipython",
    "version": 3
   },
   "file_extension": ".py",
   "mimetype": "text/x-python",
   "name": "python",
   "nbconvert_exporter": "python",
   "pygments_lexer": "ipython3",
   "version": "3.11.2"
  }
 },
 "nbformat": 4,
 "nbformat_minor": 5
}
