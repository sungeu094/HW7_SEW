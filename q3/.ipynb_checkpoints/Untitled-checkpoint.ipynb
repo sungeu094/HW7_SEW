{
 "cells": [
  {
   "cell_type": "code",
   "execution_count": null,
   "id": "fbb3ecc1",
   "metadata": {},
   "outputs": [],
   "source": [
    "import pandas as pd\n",
    "\n",
    "if __name__ == \"__main__\":\n",
    "    data = {'unit price': [1000, 280, 900],\n",
    "            'number': [25,120,30]\n",
    "            ,'Name' : [\"store1\",\"store2\",\"store3\"]}\n",
    "    df = pd.DataFrame(data)\n",
    "    df.set_index('Name', inplace=True)\n",
    "\n",
    "\n",
    "    print(\"데이터프레임 생성:\")\n",
    "    print(df.to_string(index_names=False))\n",
    "\n",
    "    # 총 가격 계산 및 데이터프레임에 추가\n",
    "    df['total price'] = df['unit price'] * df['number']\n",
    "    print(\"\\n총 가격이 추가된 데이터프레임:\")\n",
    "    print(df.to_string(index_names=False))\n",
    "\n",
    "    # 총 가격을 기준으로 내림차순 정렬하여 가장 비싼 가계 2개 출력(총 가격 숨김)\n",
    "    top_stores = df.nlargest(2, 'total price')\n",
    "    top_removed = top_stores.drop(columns=['total price'])\n",
    "    print(\"\\n총 가격이 가장 비싼 가계 2개:\")\n",
    "    print(top_removed.to_string(index_names=False)   )\n"
   ]
  }
 ],
 "metadata": {
  "kernelspec": {
   "display_name": "Python 3 (ipykernel)",
   "language": "python",
   "name": "python3"
  },
  "language_info": {
   "codemirror_mode": {
    "name": "ipython",
    "version": 3
   },
   "file_extension": ".py",
   "mimetype": "text/x-python",
   "name": "python",
   "nbconvert_exporter": "python",
   "pygments_lexer": "ipython3",
   "version": "3.11.2"
  }
 },
 "nbformat": 4,
 "nbformat_minor": 5
}
