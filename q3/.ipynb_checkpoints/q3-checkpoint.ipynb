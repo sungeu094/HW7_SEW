{
 "cells": [
  {
   "cell_type": "code",
   "execution_count": 14,
   "id": "f17bbd2b",
   "metadata": {},
   "outputs": [
    {
     "name": "stdout",
     "output_type": "stream",
     "text": [
      "단가 & 개수:\n",
      "        unit price  number\n",
      "store1        1000      25\n",
      "store2         280     120\n",
      "store3         900      30\n",
      "\n",
      "단가 & 개수 & 총 가격:\n",
      "        unit price  number  total price\n",
      "store1        1000      25        25000\n",
      "store2         280     120        33600\n",
      "store3         900      30        27000\n",
      "\n",
      "총 가격이 가장 비싼 가계 2개:\n",
      "        unit price  number  total price\n",
      "store2         280     120        33600\n",
      "store3         900      30        27000\n"
     ]
    }
   ],
   "source": [
    "import pandas as pd\n",
    "\n",
    "def main():\n",
    "    data = {'unit price': [1000, 280, 900],\n",
    "            'number': [25,120,30]\n",
    "            ,'store' : [\"store1\",\"store2\",\"store3\"]}\n",
    "    data_frame = pd.DataFrame(data)\n",
    "    data_frame.set_index('store', inplace=True)\n",
    "\n",
    "\n",
    "    print(\"단가 & 개수:\")\n",
    "    print(data_frame.to_string(index_names=False))\n",
    "\n",
    "    data_frame['total price'] = data_frame['unit price'] * data_frame['number']\n",
    "    print(\"\\n단가 & 개수 & 총 가격:\")\n",
    "    print(data_frame.to_string(index_names=False))\n",
    "\n",
    "    top_stores = data_frame.nlargest(2, 'total price')\n",
    "    print(\"\\n총 가격이 가장 비싼 가계 2개:\")\n",
    "    print(top_stores.to_string(index_names=False)   )\n",
    "\n",
    "if __name__ == \"__main__\":\n",
    "    main()"
   ]
  },
  {
   "cell_type": "code",
   "execution_count": null,
   "id": "ba0ef7d6",
   "metadata": {},
   "outputs": [],
   "source": []
  }
 ],
 "metadata": {
  "kernelspec": {
   "display_name": "Python 3 (ipykernel)",
   "language": "python",
   "name": "python3"
  },
  "language_info": {
   "codemirror_mode": {
    "name": "ipython",
    "version": 3
   },
   "file_extension": ".py",
   "mimetype": "text/x-python",
   "name": "python",
   "nbconvert_exporter": "python",
   "pygments_lexer": "ipython3",
   "version": "3.11.2"
  }
 },
 "nbformat": 4,
 "nbformat_minor": 5
}
